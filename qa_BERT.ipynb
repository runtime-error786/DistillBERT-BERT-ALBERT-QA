{
 "cells": [
  {
   "cell_type": "code",
   "execution_count": null,
   "metadata": {},
   "outputs": [],
   "source": [
    "! pip install transformers torch\n"
   ]
  },
  {
   "cell_type": "code",
   "execution_count": 89,
   "metadata": {},
   "outputs": [],
   "source": [
    "from transformers import AutoTokenizer, AutoModelForQuestionAnswering\n",
    "import torch"
   ]
  },
  {
   "cell_type": "code",
   "execution_count": null,
   "metadata": {},
   "outputs": [],
   "source": [
    "def load_model(model_name=\"bert-large-uncased-whole-word-masking-finetuned-squad\"):\n",
    "    tokenizer = AutoTokenizer.from_pretrained(model_name)\n",
    "    model = AutoModelForQuestionAnswering.from_pretrained(model_name)\n",
    "    return tokenizer, model\n",
    "\n",
    "tokenizer, model = load_model()"
   ]
  },
  {
   "cell_type": "code",
   "execution_count": 91,
   "metadata": {},
   "outputs": [],
   "source": [
    "context = \"\"\"\n",
    "Machine Learning (ML) is a subset of Artificial Intelligence (AI) that allows computers to learn and make decisions without explicit programming.\n",
    "There are three main types of ML:\n",
    "\n",
    "1. Supervised Learning: Uses labeled data to learn patterns and make predictions.\n",
    "2. Unsupervised Learning: Works with unlabeled data to find hidden patterns or structures.\n",
    "3. Reinforcement Learning: Involves learning by interacting with an environment to maximize cumulative rewards.\n",
    "\n",
    "These techniques power applications like recommendation systems, self-driving cars, and fraud detection.\n",
    "\"\"\""
   ]
  },
  {
   "cell_type": "code",
   "execution_count": 98,
   "metadata": {},
   "outputs": [],
   "source": [
    "question = \"can you explain reinforcement learning?\"\n"
   ]
  },
  {
   "cell_type": "code",
   "execution_count": 99,
   "metadata": {},
   "outputs": [],
   "source": [
    "inputs = tokenizer(question, context, return_tensors=\"pt\", truncation=True, max_length=512)\n"
   ]
  },
  {
   "cell_type": "code",
   "execution_count": 100,
   "metadata": {},
   "outputs": [],
   "source": [
    "outputs = model(**inputs)\n",
    "start_logits = outputs.start_logits\n",
    "end_logits = outputs.end_logits"
   ]
  },
  {
   "cell_type": "code",
   "execution_count": 101,
   "metadata": {},
   "outputs": [],
   "source": [
    "def extract_answer(start_logits, end_logits, inputs, tokenizer):\n",
    "    input_ids = inputs[\"input_ids\"][0]\n",
    "    start_idx = torch.argmax(start_logits)\n",
    "    end_idx = torch.argmax(end_logits)\n",
    "\n",
    "    # Debug logits and indices\n",
    "    print(f\"Start index: {start_idx}, End index: {end_idx}\")\n",
    "\n",
    "    # Ensure indices are valid\n",
    "    if start_idx <= end_idx and end_idx < len(input_ids):\n",
    "        answer_tokens = input_ids[start_idx:end_idx + 1]\n",
    "        answer = tokenizer.decode(answer_tokens, skip_special_tokens=True)\n",
    "    else:\n",
    "        answer = \"No valid answer found in the provided context.\"\n",
    "    \n",
    "    return answer"
   ]
  },
  {
   "cell_type": "code",
   "execution_count": null,
   "metadata": {},
   "outputs": [],
   "source": [
    "answer = extract_answer(start_logits, end_logits, inputs, tokenizer)\n"
   ]
  },
  {
   "cell_type": "code",
   "execution_count": null,
   "metadata": {},
   "outputs": [],
   "source": [
    "print(f\"Question: {question}\")\n",
    "print(f\"Answer: {answer}\")"
   ]
  }
 ],
 "metadata": {
  "kernelspec": {
   "display_name": "Python 3",
   "language": "python",
   "name": "python3"
  },
  "language_info": {
   "codemirror_mode": {
    "name": "ipython",
    "version": 3
   },
   "file_extension": ".py",
   "mimetype": "text/x-python",
   "name": "python",
   "nbconvert_exporter": "python",
   "pygments_lexer": "ipython3",
   "version": "3.11.3"
  }
 },
 "nbformat": 4,
 "nbformat_minor": 2
}
